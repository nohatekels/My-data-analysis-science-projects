{
 "cells": [
  {
   "cell_type": "markdown",
   "id": "26019133",
   "metadata": {
    "slideshow": {
     "slide_type": "slide"
    }
   },
   "source": [
    "# Analyzing 2013-14 San Antonio Spurs in terms of players’ impact on wins and revenue\n",
    "\n",
    "Noha Tekelsion\n",
    "\n",
    "\n",
    "08/10/2024"
   ]
  },
  {
   "cell_type": "markdown",
   "id": "537b467e",
   "metadata": {
    "slideshow": {
     "slide_type": "slide"
    }
   },
   "source": [
    "# Objective \n",
    "\n",
    "- Using different measures of player value such as PIPM (player impact plus minus) or wins above replacement \n",
    "\n",
    "\n",
    "- this project aims to find a marginal revenue product for these players \n",
    "\n",
    "\n",
    "- then analyze discrepancies between calculated value and actual player compensation."
   ]
  },
  {
   "cell_type": "markdown",
   "id": "175c4981",
   "metadata": {
    "slideshow": {
     "slide_type": "slide"
    }
   },
   "source": [
    "# PIPM\n",
    "\n",
    "- simple measure of player values as it only relies on +/- data for its calculations (i.e. on/off ratings)\n",
    "\n",
    "\n",
    "- go to basketball reference to select stats on San Antonio spurs during 2013-14 season. Use per 36 stats\n",
    "\n",
    "\n",
    "- 3 components of PIPM: box component, on/off component, net rating (+/- per 100 possessions)\n",
    "\n",
    "\n",
    "- luck adjustment"
   ]
  },
  {
   "cell_type": "markdown",
   "id": "bba343f8",
   "metadata": {
    "slideshow": {
     "slide_type": "slide"
    }
   },
   "source": [
    "# box component\n",
    "\n",
    "- using coefficient from regression of selected variables on long term adjusted +/-\n",
    "\n",
    "\n",
    "- Multiply these coeffients with player stats to get the offenesive and defensive PIPM of each player\n",
    "\n",
    "\n",
    "- This will allow me to get a net OPIPM and DPIPM measure for each player by summing the rows with offensive and defensive stats\n",
    "\n",
    "\n",
    "- raw production box tells us, for instance, that when Kwahi was on the floor, all else equal, his team was 2.96 points better on offense and 3.014 points better on defense per 100 possessions\n"
   ]
  },
  {
   "cell_type": "markdown",
   "id": "82c1ecfc",
   "metadata": {
    "slideshow": {
     "slide_type": "slide"
    }
   },
   "source": [
    "# on/off\n",
    "\n",
    "- new coeffients from regressiosn box that regress the OPIMP and DPIPM measures on on/off, box component, and average stats\n",
    "\n",
    "- go to on/off stat page and look at the Ortg(offensive rating) and Drtg(defesnive rating) of each player.\n",
    "\n",
    "- i.e. Tim Duncan - team makes 1.8 less points on average per 100 possessions when he is on the floor in comparison to if they just fielded a league average player\n",
    "\n",
    "- Marco Belinelli had the highest rating at 6.45. \n"
   ]
  },
  {
   "cell_type": "markdown",
   "id": "d6456309",
   "metadata": {
    "slideshow": {
     "slide_type": "slide"
    }
   },
   "source": [
    "- This suggests that replacing Belinelli with a league-average player at his position would result in the Spurs scoring approximately 6.45 fewer points per 100 possessions during his minutes on the court\n",
    "\n",
    "- Kawhi Leonard, the Finals MVP, had a regular-season PIPM of 3.6, around the team average, but his MVP award reflects his increased impact during the Finals."
   ]
  },
  {
   "cell_type": "markdown",
   "id": "c2f709d7",
   "metadata": {
    "slideshow": {
     "slide_type": "slide"
    }
   },
   "source": [
    "# Converting PIPM to wins\n",
    "\n",
    "- finding win % using pythgorean wins formula: Win% = (Points For)^E / (Points For^E + Points Against^E), let E = 13.68\n",
    "\n",
    "\n",
    "- For instance, the average NBA team would, in theory, win 64.6% of their possession sets when Tim Duncan is added to the team, up from the average of 50%.\n",
    "\n",
    "- wins above replacement: (minutes-played/48)(player win% X avg win %) \n",
    "\n",
    "- Kawhi Leonard had a Wins Above Replacement rate of 8, meaning that he would contribute 8 more wins for his team over the course of a season than if the team had an average player instead of him. "
   ]
  },
  {
   "cell_type": "markdown",
   "id": "49f8be5c",
   "metadata": {
    "slideshow": {
     "slide_type": "slide"
    }
   },
   "source": [
    "# Linking wins to revenues produced\n",
    "\n",
    "- Marginal revenue product - tells us how much extra revenue a player produces for the team\n",
    "\n",
    "- Using the Wins Above Replacement values for each player, the NBA minimum salary for 2014 ($507,336),a 5% discount rate, and the regression of win percentage on revenue from the tutorial\n",
    "\n",
    "- Here is an example of the equation I used on Tim Duncan to calculate his MRP: 507,336 + 9.9 × (486,524 + (1/1+0.05) × 358,24).\n",
    "\n",
    "- Tim Duncan had a MRP of about 9,042,000 - this is the amount of extra revenue he generated for the team. Comparing to his salary he is underpaid\n"
   ]
  },
  {
   "cell_type": "markdown",
   "id": "9fb88159",
   "metadata": {
    "slideshow": {
     "slide_type": "slide"
    }
   },
   "source": [
    "- Found player salaries and adjusted for inflation to 2011 because our regression table values for win% are in 2011 values\n",
    "\n",
    "- Belinelli, the best perfoming player according to the stats we used, was underpaid by almost 8 million\n"
   ]
  },
  {
   "cell_type": "markdown",
   "id": "fb7dca61",
   "metadata": {
    "slideshow": {
     "slide_type": "slide"
    }
   },
   "source": [
    " - why? - one potential reason: Belinelli was part of a Spurs team that was trying to balance paying their star players, like Tim Duncan and Manu Ginóbili, while also building a deep roster\n",
    "\n",
    "\n",
    "- his  underpayment represents a failure of the market, whether due to salary caps (market limitations) or a market lag in responding to player improvement.\n"
   ]
  }
 ],
 "metadata": {
  "celltoolbar": "Slideshow",
  "jupytext": {
   "formats": "ipynb,py:hydrogen"
  },
  "kernelspec": {
   "display_name": "Python 3 (ipykernel)",
   "language": "python",
   "name": "python3"
  },
  "language_info": {
   "codemirror_mode": {
    "name": "ipython",
    "version": 3
   },
   "file_extension": ".py",
   "mimetype": "text/x-python",
   "name": "python",
   "nbconvert_exporter": "python",
   "pygments_lexer": "ipython3",
   "version": "3.11.6"
  }
 },
 "nbformat": 4,
 "nbformat_minor": 5
}
